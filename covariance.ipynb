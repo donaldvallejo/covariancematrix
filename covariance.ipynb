{
 "cells": [
  {
   "cell_type": "code",
   "execution_count": 1,
   "metadata": {},
   "outputs": [],
   "source": [
    "def CovarianceMatrix(listX, listY, listZ):\n",
    "    covXY = Covariance(listX, listY)\n",
    "    covXZ = Covariance(listX, listZ)\n",
    "    covYZ = Covariance(listY, listZ)\n",
    "    varX = Variance(listX)\n",
    "    varY = Variance(listY)\n",
    "    varZ = Variance(listZ)\n",
    "    width = 8\n",
    "    precision = 5\n",
    "    fString = (\n",
    "        f'{varX:<{width}.{precision}} {covXY:<{width}.{precision}} {covXZ:<{width}.{precision}}\\n'\n",
    "        f'{covXY:<{width}.{precision}} {varY:<{width}.{precision}} {covYZ:<{width}.{precision}}\\n'\n",
    "        f'{covXZ:<{width}.{precision}} {covYZ:<{width}.{precision}} {varZ:<{width}.{precision}}\\n'\n",
    "    )\n",
    "    return (fString)"
   ]
  },
  {
   "cell_type": "code",
   "execution_count": 2,
   "metadata": {},
   "outputs": [],
   "source": [
    "import numpy\n",
    "def Covariance(listX, listY):\n",
    "    nMinusOne = len(listX)-1\n",
    "    avgX = Mean(listX)\n",
    "    avgY = Mean(listY)\n",
    "    sumList = [(X-avgX)*(Y-avgY) for X,Y in zip(listX,listY)]\n",
    "    covariance = numpy.sum(sumList)/nMinusOne\n",
    "    return covariance"
   ]
  },
  {
   "cell_type": "code",
   "execution_count": 3,
   "metadata": {},
   "outputs": [],
   "source": [
    "def Variance(listX):\n",
    "    #average number ± this deviation\n",
    "    nMinusOne = len(listX)-1\n",
    "    avgX = Mean(listX)\n",
    "    sumList = [(num-avgX)**2 for num in listX]\n",
    "    variance = numpy.sum(sumList)/nMinusOne\n",
    "    return (variance)"
   ]
  },
  {
   "cell_type": "code",
   "execution_count": 4,
   "metadata": {},
   "outputs": [],
   "source": [
    "def Mean(listX):\n",
    "    total = 0\n",
    "    for num in listX:\n",
    "        total += num\n",
    "    average = total / len(listX)\n",
    "    return average"
   ]
  },
  {
   "cell_type": "code",
   "execution_count": 5,
   "metadata": {},
   "outputs": [
    {
     "name": "stdout",
     "output_type": "stream",
     "text": [
      "0.0      0.0      0.0     \n",
      "0.0      1.6667   1.1667  \n",
      "0.0      1.1667   0.91667 \n",
      "\n"
     ]
    }
   ],
   "source": [
    "X = [1,1,1,1]\n",
    "Y = [1,2,3,4]\n",
    "Z = [1,1,2,3]\n",
    "print (CovarianceMatrix(X,Y,Z))"
   ]
  },
  {
   "cell_type": "raw",
   "metadata": {},
   "source": []
  }
 ],
 "metadata": {
  "kernelspec": {
   "display_name": "Python 3",
   "language": "python",
   "name": "python3"
  },
  "language_info": {
   "codemirror_mode": {
    "name": "ipython",
    "version": 3
   },
   "file_extension": ".py",
   "mimetype": "text/x-python",
   "name": "python",
   "nbconvert_exporter": "python",
   "pygments_lexer": "ipython3",
   "version": "3.8.1"
  }
 },
 "nbformat": 4,
 "nbformat_minor": 4
}